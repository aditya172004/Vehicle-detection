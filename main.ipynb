# Requirements: pip install ultralytics opencv-python
# ----------------------------------------------------------------
# POLYGONAL ROI VEHICLE COUNTER - Rhombus/Rectangular ROI for vehicle detection
import cv2
from ultralytics import YOLO
from collections import defaultdict
import time
import numpy as np
import math

class PolygonalROIVehicleCounter:
    def __init__(self, model_path='yolov10s.pt', conf_threshold=0.3, device='cpu', use_clahe=True):
        """
        Initializes the Vehicle Counter with Polygonal ROI detection.
        """
        self.model = YOLO(model_path)
        self.conf_threshold = conf_threshold
        self.device = device
        self.use_clahe = use_clahe
        
        # Initialize CLAHE pre-processor if enabled
        if self.use_clahe:
            self.clahe = cv2.createCLAHE(clipLimit=2.0, tileGridSize=(8, 8))

        self.vehicle_classes = {
            2: 'car', 3: 'motorcycle', 5: 'bus', 7: 'truck'
        }

        # Tracking and counting attributes
        self.track_history = defaultdict(list)
        self.seen_ids = set()
        self.vehicle_counts = defaultdict(int)
        self.current_vehicles_in_frame = {}
        self.current_vehicles_in_roi = {}  # Vehicles currently in ROI
        
        # ROI (Region of Interest) - Polygonal area
        self.roi_points = []
        self.roi_defined = False
        self.drawing_roi = False
        
        # Performance metrics
        self.start_time = time.time()
        self.frame_count = 0

    def define_roi_interactive(self, frame):
        """
        Interactive ROI definition - user clicks points to define polygon
        """
        print("Define POLYGONAL ROI:")
        print("- Left click to add points for the polygon")
        print("- Right click to remove last point")
        print("- Press SPACE when done (minimum 3 points)")
        print("- Press ESC to use auto-rhombus ROI")
        print("- Create a large shape covering the main traffic area")
        
        self.roi_points = []
        temp_frame = frame.copy()
        
        def mouse_callback(event, x, y, flags, param):
            nonlocal temp_frame
            temp_frame = frame.copy()
            
            if event == cv2.EVENT_LBUTTONDOWN:
                # Add point
                self.roi_points.append([x, y])
                print(f"Added point {len(self.roi_points)}: ({x}, {y})")
            
            elif event == cv2.EVENT_RBUTTONDOWN:
                # Remove last point
                if self.roi_points:
                    removed = self.roi_points.pop()
                    print(f"Removed point: {removed}")
            
            # Draw current polygon
            if len(self.roi_points) > 0:
                # Draw points
                for i, point in enumerate(self.roi_points):
                    cv2.circle(temp_frame, tuple(point), 8, (0, 255, 0), -1)
                    cv2.putText(temp_frame, str(i+1), (point[0]+10, point[1]-10), 
                               cv2.FONT_HERSHEY_SIMPLEX, 0.5, (255, 255, 255), 2)
                
                # Draw lines between points
                if len(self.roi_points) > 1:
                    for i in range(len(self.roi_points)):
                        start_point = tuple(self.roi_points[i])
                        end_point = tuple(self.roi_points[(i + 1) % len(self.roi_points)])
                        cv2.line(temp_frame, start_point, end_point, (0, 0, 255), 3)
                
                # Draw filled polygon if we have enough points
                if len(self.roi_points) >= 3:
                    overlay = temp_frame.copy()
                    cv2.fillPoly(overlay, [np.array(self.roi_points)], (0, 0, 255))
                    cv2.addWeighted(overlay, 0.2, temp_frame, 0.8, 0, temp_frame)
        
        cv2.namedWindow('Define Polygonal ROI', cv2.WINDOW_NORMAL)
        cv2.resizeWindow('Define Polygonal ROI', 1280, 720)
        cv2.setMouseCallback('Define Polygonal ROI', mouse_callback)
        
        while True:
            cv2.imshow('Define Polygonal ROI', temp_frame)
            key = cv2.waitKey(1) & 0xFF
            
            if key == ord(' '):  # Space to confirm
                if len(self.roi_points) >= 3:
                    self.roi_defined = True
                    print(f"Polygonal ROI confirmed with {len(self.roi_points)} points")
                    break
                else:
                    print("Need at least 3 points to create a polygon!")
                    continue
            elif key == 27:  # ESC to skip
                print("Interactive ROI skipped - will use auto-rhombus ROI")
                break
        
        cv2.destroyWindow('Define Polygonal ROI')

    def auto_define_roi(self, frame):
        """
        Automatically define a large rhombus/diamond ROI based on frame dimensions
        """
        height, width = frame.shape[:2]
        
        # Create a large rhombus/diamond shape
        center_x, center_y = width // 2, height // 2
        
        # Make it cover about 80% of the frame
        margin_x = int(width * 0.1)   # 10% margin on sides
        margin_y = int(height * 0.15) # 15% margin on top/bottom
        
        # Define rhombus points (diamond shape)
        self.roi_points = [
            [center_x, margin_y],                    # Top point
            [width - margin_x, center_y],            # Right point
            [center_x, height - margin_y],           # Bottom point
            [margin_x, center_y]                     # Left point
        ]
        
        self.roi_defined = True
        print(f"Auto-rhombus ROI defined with points: {self.roi_points}")

    def create_rectangular_roi(self, frame):
        """
        Create a large rectangular ROI (alternative to rhombus)
        """
        height, width = frame.shape[:2]
        
        # Create a large rectangle covering most of the frame
        margin_x = int(width * 0.1)   # 10% margin on sides
        margin_y = int(height * 0.15) # 15% margin on top/bottom
        
        # Define rectangle points
        self.roi_points = [
            [margin_x, margin_y],                    # Top-left
            [width - margin_x, margin_y],            # Top-right
            [width - margin_x, height - margin_y],   # Bottom-right
            [margin_x, height - margin_y]            # Bottom-left
        ]
        
        self.roi_defined = True
        print(f"Rectangular ROI defined with points: {self.roi_points}")

    def is_point_in_roi(self, point):
        """
        Check if a point is inside the polygonal ROI using cv2.pointPolygonTest
        """
        if not self.roi_defined or len(self.roi_points) < 3:
            return True  # If no ROI defined, consider all points valid
        
        roi_array = np.array(self.roi_points, dtype=np.int32)
        result = cv2.pointPolygonTest(roi_array, point, False)
        return result >= 0  # >= 0 means inside or on the boundary

    def is_vehicle_in_roi(self, box):
        """
        Check if a vehicle (bounding box) is inside or overlaps with the polygonal ROI
        Uses multiple check points: center, corners, and edge midpoints
        """
        if not self.roi_defined:
            return True
        
        x1, y1, x2, y2 = box
        
        # Check multiple points of the bounding box
        check_points = [
            # Center point (most important)
            ((x1 + x2) / 2, (y1 + y2) / 2),
            # Four corners
            (x1, y1), (x2, y1), (x1, y2), (x2, y2),
            # Midpoints of edges
            ((x1 + x2) / 2, y1), ((x1 + x2) / 2, y2),
            (x1, (y1 + y2) / 2), (x2, (y1 + y2) / 2)
        ]
        
        # Count how many points are inside ROI
        points_inside = 0
        for point in check_points:
            if self.is_point_in_roi(point):
                points_inside += 1
        
        # Consider vehicle in ROI if at least 30% of check points are inside
        return points_inside >= len(check_points) * 0.3

    def preprocess_frame(self, frame):
        """Applies pre-processing steps to the frame."""
        if not self.use_clahe:
            return frame
        
        # Convert frame to LAB color space to apply CLAHE on the L-channel (Lightness)
        lab = cv2.cvtColor(frame, cv2.COLOR_BGR2LAB)
        l, a, b = cv2.split(lab)
        l_clahe = self.clahe.apply(l)
        lab_clahe = cv2.merge((l_clahe, a, b))
        frame_clahe = cv2.cvtColor(lab_clahe, cv2.COLOR_LAB2BGR)
        return frame_clahe

    def process_frame(self, frame):
        """
        Processes a single frame for vehicle detection, tracking, and counting within ROI.
        """
        self.frame_count += 1
        
        # 1. Pre-process the frame for better detection
        preprocessed_frame = self.preprocess_frame(frame)
        
        # 2. Run tracking on the pre-processed frame
        results = self.model.track(
            preprocessed_frame,
            classes=list(self.vehicle_classes.keys()),
            conf=self.conf_threshold,
            device=self.device,
            persist=True,
            tracker="bytetrack.yaml",
            verbose=False
        )
        
        # Clear current vehicles
        self.current_vehicles_in_frame.clear()
        self.current_vehicles_in_roi.clear()

        if results[0].boxes.id is not None:
            boxes = results[0].boxes.xyxy.cpu().numpy()
            track_ids = results[0].boxes.id.cpu().numpy().astype(int)
            classes = results[0].boxes.cls.cpu().numpy().astype(int)
            confidences = results[0].boxes.conf.cpu().numpy()
            
            for box, track_id, cls, conf in zip(boxes, track_ids, classes, confidences):
                class_name = self.vehicle_classes.get(cls, 'unknown')
                
                # Store all vehicles in frame
                self.current_vehicles_in_frame[track_id] = {
                    'class': class_name,
                    'box': box,
                    'confidence': conf
                }
                
                # Check if vehicle is in ROI
                if self.is_vehicle_in_roi(box):
                    self.current_vehicles_in_roi[track_id] = {
                        'class': class_name,
                        'box': box,
                        'confidence': conf
                    }
                    
                    # Count vehicle if not already counted (only ROI vehicles)
                    if track_id not in self.seen_ids:
                        self.seen_ids.add(track_id)
                        self.vehicle_counts[class_name] += 1
                        print(f"New {class_name} (ID:{track_id}) detected in ROI! Total: {len(self.seen_ids)}")
                
                # Update track history
                cx, cy = int((box[0] + box[2]) / 2), int((box[1] + box[3]) / 2)
                self.track_history[track_id].append((cx, cy))
                if len(self.track_history[track_id]) > 30:
                    self.track_history[track_id].pop(0)

        # 3. Draw annotations on the ORIGINAL frame
        annotated_frame = self.draw_annotations(frame, results)
        return annotated_frame

    def draw_annotations(self, frame, results):
        """Draws bounding boxes, tracking IDs, trajectories, ROI, and statistics."""
        
        if results[0].boxes.id is not None:
            boxes = results[0].boxes.xyxy.cpu().numpy()
            track_ids = results[0].boxes.id.cpu().numpy().astype(int)
            classes = results[0].boxes.cls.cpu().numpy().astype(int)
            confidences = results[0].boxes.conf.cpu().numpy()
            
            for box, track_id, cls, conf in zip(boxes, track_ids, classes, confidences):
                x1, y1, x2, y2 = map(int, box)
                class_name = self.vehicle_classes.get(cls, 'unknown')
                
                # Determine if vehicle is in ROI
                in_roi = track_id in self.current_vehicles_in_roi
                
                # Different colors for inside/outside ROI
                if in_roi:
                    color = (0, 255, 0)  # Green for vehicles in ROI
                    label = f'ROI ID:{track_id} {class_name} ({conf:.2f})'
                else:
                    color = (128, 128, 128)  # Gray for vehicles outside ROI
                    label = f'ID:{track_id} {class_name} ({conf:.2f})'
                
                # Draw bounding box
                thickness = 3 if in_roi else 1
                cv2.rectangle(frame, (x1, y1), (x2, y2), color, thickness)
                
                # Draw label
                label_size, _ = cv2.getTextSize(label, cv2.FONT_HERSHEY_SIMPLEX, 0.5, 2)
                cv2.rectangle(frame, (x1, y1 - label_size[1] - 5), (x1 + label_size[0], y1), color, -1)
                cv2.putText(frame, label, (x1, y1 - 5), cv2.FONT_HERSHEY_SIMPLEX, 0.5, (0, 0, 0), 2)

                # Draw trajectory (only for ROI vehicles)
                if in_roi:
                    points = self.track_history.get(track_id, [])
                    if len(points) > 1:
                        cv2.polylines(frame, [np.array(points, dtype=np.int32)], 
                                     isClosed=False, color=color, thickness=2)

        # Draw ROI polygon
        self.draw_roi(frame)
        
        # Draw statistics
        self.draw_statistics(frame)
        return frame

    def draw_roi(self, frame):
        """Draw the ROI polygon on the frame"""
        if self.roi_defined and len(self.roi_points) >= 3:
            # Convert points to numpy array
            roi_array = np.array(self.roi_points, dtype=np.int32)
            
            # Draw filled polygon with transparency
            overlay = frame.copy()
            cv2.fillPoly(overlay, [roi_array], (0, 0, 255))
            cv2.addWeighted(overlay, 0.1, frame, 0.9, 0, frame)
            
            # Draw polygon outline
            cv2.polylines(frame, [roi_array], isClosed=True, color=(0, 0, 255), thickness=4)
            
            # Draw corner points
            for i, point in enumerate(self.roi_points):
                cv2.circle(frame, tuple(point), 6, (0, 255, 0), -1)
                cv2.putText(frame, str(i+1), (point[0]+10, point[1]-10), 
                           cv2.FONT_HERSHEY_SIMPLEX, 0.5, (255, 255, 255), 2)
            
            # Add ROI label at center
            if len(self.roi_points) >= 3:
                # Calculate centroid
                centroid_x = int(sum(p[0] for p in self.roi_points) / len(self.roi_points))
                centroid_y = int(sum(p[1] for p in self.roi_points) / len(self.roi_points))
                cv2.putText(frame, "ROI", (centroid_x - 20, centroid_y), 
                           cv2.FONT_HERSHEY_SIMPLEX, 1.0, (0, 0, 255), 3)

    def draw_statistics(self, frame):
        """Draws the statistics panel."""
        panel_x, panel_y, panel_w, panel_h = 10, 10, 380, 200
        overlay = frame.copy()
        cv2.rectangle(overlay, (panel_x, panel_y), (panel_x + panel_w, panel_y + panel_h), (0, 0, 0), -1)
        cv2.addWeighted(overlay, 0.7, frame, 0.3, 0, frame)

        y = panel_y + 25
        lh = 20
        
        # Counts
        total_unique_count = len(self.seen_ids)  # Only ROI vehicles are counted
        current_roi_count = len(self.current_vehicles_in_roi)
        current_total_count = len(self.current_vehicles_in_frame)
        
        # Title
        cv2.putText(frame, "POLYGONAL ROI VEHICLE COUNTER", (panel_x + 10, y), 
                   cv2.FONT_HERSHEY_SIMPLEX, 0.6, (0, 255, 255), 2)
        y += lh + 5
        
        # ROI status
        roi_status = "DEFINED" if self.roi_defined else "NOT DEFINED"
        roi_type = f"({len(self.roi_points)} points)" if self.roi_defined else ""
        cv2.putText(frame, f"ROI Status: {roi_status} {roi_type}", (panel_x + 10, y), 
                   cv2.FONT_HERSHEY_SIMPLEX, 0.5, (0, 255, 0) if self.roi_defined else (0, 0, 255), 1)
        y += lh
        
        # Counts
        cv2.putText(frame, f"Total ROI Vehicles: {total_unique_count}", (panel_x + 10, y), 
                   cv2.FONT_HERSHEY_SIMPLEX, 0.6, (0, 255, 0), 2)
        y += lh
        
        cv2.putText(frame, f"Current in ROI: {current_roi_count}", (panel_x + 10, y), 
                   cv2.FONT_HERSHEY_SIMPLEX, 0.5, (255, 255, 255), 1)
        y += lh
        
        cv2.putText(frame, f"Current in Frame: {current_total_count}", (panel_x + 10, y), 
                   cv2.FONT_HERSHEY_SIMPLEX, 0.5, (128, 128, 128), 1)
        y += lh + 5

        # Vehicle type breakdown (only ROI vehicles)
        if self.vehicle_counts:
            cv2.putText(frame, "ROI Vehicle Types:", (panel_x + 10, y), 
                       cv2.FONT_HERSHEY_SIMPLEX, 0.5, (200, 200, 200), 1)
            y += lh - 5
            
            for vehicle_type, count in self.vehicle_counts.items():
                cv2.putText(frame, f"- {vehicle_type.capitalize()}: {count}", (panel_x + 20, y), 
                           cv2.FONT_HERSHEY_SIMPLEX, 0.4, (255, 255, 255), 1)
                y += lh - 5

        # FPS
        elapsed_time = time.time() - self.start_time
        fps = self.frame_count / elapsed_time if elapsed_time > 0 else 0
        cv2.putText(frame, f"FPS: {fps:.1f}", (panel_x + 10, panel_y + panel_h - 15), 
                   cv2.FONT_HERSHEY_SIMPLEX, 0.5, (0, 255, 0), 1)

    def run(self, source_path, roi_type='interactive'):
        """
        Runs the vehicle counting process on a video file or camera source.
        roi_type: 'interactive', 'auto_rhombus', 'auto_rectangle'
        """
        cap = cv2.VideoCapture(source_path)
        if not cap.isOpened():
            print(f"Error: Could not open video source: {source_path}")
            return

        # Get first frame for ROI definition
        ret, first_frame = cap.read()
        if not ret:
            print("Error: Could not read first frame")
            return
        
        display_width, display_height = 1280, 720
        first_frame = cv2.resize(first_frame, (display_width, display_height))
        
        # Define ROI based on type
        if roi_type == 'interactive':
            self.define_roi_interactive(first_frame)
            
        if not self.roi_defined:
            if roi_type == 'auto_rectangle':
                self.create_rectangular_roi(first_frame)
            else:  # default to rhombus
                self.auto_define_roi(first_frame)
        
        # Reset video capture to beginning
        cap.set(cv2.CAP_PROP_POS_FRAMES, 0)
        
        print("\n=== POLYGONAL ROI VEHICLE COUNTER STARTED ===")
        print("- Only vehicles inside the red polygon are counted")
        print("- Green boxes: Vehicles in ROI (counted)")
        print("- Gray boxes: Vehicles outside ROI (not counted)")
        print("- Press 'q' to quit, 'r' to reset counter")
        print("=" * 50)

        while True:
            ret, frame = cap.read()
            if not ret:
                print("End of video stream.")
                break

            frame = cv2.resize(frame, (display_width, display_height))
            processed_frame = self.process_frame(frame)
            cv2.imshow("Polygonal ROI Vehicle Counter", processed_frame)

            key = cv2.waitKey(1) & 0xFF
            if key == ord('q'):
                break
            elif key == ord('r'):
                # Reset counter
                self.seen_ids.clear()
                self.vehicle_counts.clear()
                self.track_history.clear()
                print("Counter reset!")

        cap.release()
        cv2.destroyAllWindows()
        self.print_final_counts()

    def print_final_counts(self):
        """Prints the final cumulative vehicle counts to the console."""
        print(f"\n=== FINAL ROI STATISTICS ===")
        if self.roi_defined:
            print(f"ROI Type: Polygon with {len(self.roi_points)} points")
            print(f"ROI Points: {self.roi_points}")
        print(f"Total Unique Vehicles in ROI: {len(self.seen_ids)}")
        for vt, count in self.vehicle_counts.items():
            print(f"- {vt.capitalize()}: {count}")
        print(f"Session duration: {time.time() - self.start_time:.1f} seconds")
        print(f"Average FPS: {self.frame_count / (time.time() - self.start_time):.1f}")


def main():
    """Main function to run the polygonal ROI vehicle counter."""
    # Configuration
    model = 'yolov10n.pt'  # Use yolov10s.pt, yolov10m.pt for better accuracy
    device_to_use = 'cpu'   # Use '0' for GPU acceleration if available
    use_image_enhancement = True
    confidence_threshold = 0.3
    video_source = "adi.mp4"  # Replace with your video file or 0 for webcam
    
    # ROI Type: 'interactive', 'auto_rhombus', 'auto_rectangle'
    roi_type = 'interactive'  # Change this to set ROI type

    print("Initializing Polygonal ROI Vehicle Counter...")
    print(f"Model: {model}")
    print(f"Device: {device_to_use}")
    print(f"Confidence threshold: {confidence_threshold}")
    print(f"Image enhancement: {use_image_enhancement}")
    print(f"Video source: {video_source}")
    print(f"ROI Type: {roi_type}")
    print("-" * 50)

    counter = PolygonalROIVehicleCounter(
        model_path=model, 
        device=device_to_use, 
        conf_threshold=confidence_threshold,
        use_clahe=use_image_enhancement
    )
    
    counter.run(source_path=video_source, roi_type=roi_type)

if __name__ == "__main__":
    main()
